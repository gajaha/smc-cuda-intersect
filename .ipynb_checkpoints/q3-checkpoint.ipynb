{
 "cells": [
  {
   "cell_type": "markdown",
   "metadata": {},
   "source": [
    "Characterize traffic patterns from the simulation:\n",
    "What are the traffic hot spots? Is there any congestion?\n",
    "What are the travel times? (How) do they vary throughout the day?\n",
    "What are busy times? How well do they match the commute pattern from NHTS?\n",
    "How do speeds vary spatially and temporally?\n",
    "What are the most popular roads?\n",
    "Can you draw conclusions about the simulation setup from the output?\n"
   ]
  },
  {
   "cell_type": "code",
   "execution_count": 1,
   "metadata": {},
   "outputs": [],
   "source": [
    "import pandas as pd\n",
    "import xarray as xr\n",
    "import numpy as np\n",
    "import geopandas as gpd\n",
    "import matplotlib.pyplot as plt\n",
    "import glob"
   ]
  },
  {
   "cell_type": "code",
   "execution_count": null,
   "metadata": {},
   "outputs": [],
   "source": []
  }
 ],
 "metadata": {
  "kernelspec": {
   "display_name": "Python 3",
   "language": "python",
   "name": "python3"
  },
  "language_info": {
   "codemirror_mode": {
    "name": "ipython",
    "version": 3
   },
   "file_extension": ".py",
   "mimetype": "text/x-python",
   "name": "python",
   "nbconvert_exporter": "python",
   "pygments_lexer": "ipython3",
   "version": "3.8.3"
  }
 },
 "nbformat": 4,
 "nbformat_minor": 2
}
